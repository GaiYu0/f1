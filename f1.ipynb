{
 "cells": [
  {
   "cell_type": "code",
   "execution_count": null,
   "metadata": {},
   "outputs": [],
   "source": [
    "import matplotlib.pyplot as pl\n",
    "from mpl_toolkits.mplot3d import Axes3D\n",
    "%matplotlib inline\n",
    "import numpy as np"
   ]
  },
  {
   "cell_type": "code",
   "execution_count": null,
   "metadata": {},
   "outputs": [],
   "source": [
    "# p1 = 0.5\n",
    "p1 = 0.0163\n",
    "fp = np.linspace(0, 1 - p1)\n",
    "fn = np.linspace(0, p1)\n",
    "fp, fn = np.meshgrid(fp, fn)\n",
    "f1 = 2 * (p1 - fn) / (2 * p1 - fn + fp)"
   ]
  },
  {
   "cell_type": "code",
   "execution_count": null,
   "metadata": {},
   "outputs": [],
   "source": [
    "pl.contour(fp, fn, f1)\n",
    "n = 50\n",
    "pl.quiver(np.linspace(0, 1 - p1), np.linspace(0, p1), -np.ones([n, n]), -np.ones([n, n]))"
   ]
  },
  {
   "cell_type": "code",
   "execution_count": null,
   "metadata": {},
   "outputs": [],
   "source": [
    "figure = pl.figure()\n",
    "axis = figure.add_subplot(111, projection='3d')\n",
    "axis.plot_wireframe(fp, fn, f1)\n",
    "pl.xlabel('fp')\n",
    "pl.ylabel('fn')\n",
    "axis.view_init(azim=45)"
   ]
  },
  {
   "cell_type": "code",
   "execution_count": null,
   "metadata": {},
   "outputs": [],
   "source": [
    "import sympy as sp\n",
    "sp.init_printing()"
   ]
  },
  {
   "cell_type": "code",
   "execution_count": null,
   "metadata": {},
   "outputs": [],
   "source": [
    "p1 = sp.Symbol('p1')\n",
    "fp = sp.Symbol('fp')\n",
    "fn = sp.Symbol('fn')\n",
    "f1 = 2 * (p1 - fn) / (2 * p1 - fn + fp)\n",
    "dfp = sp.diff(f1, fp).simplify()\n",
    "dfn = sp.diff(f1, fn).simplify()\n",
    "f1, dfp, dfn"
   ]
  },
  {
   "cell_type": "code",
   "execution_count": null,
   "metadata": {},
   "outputs": [],
   "source": [
    "(dfp / dfn).simplify()"
   ]
  },
  {
   "cell_type": "code",
   "execution_count": null,
   "metadata": {},
   "outputs": [],
   "source": [
    "(f1 / (2 - f1)).simplify()"
   ]
  },
  {
   "cell_type": "code",
   "execution_count": null,
   "metadata": {},
   "outputs": [],
   "source": [
    "# u * fn + v * fp\n",
    "u = sp.Symbol('u')\n",
    "v = sp.Symbol('v')\n",
    "fnn = fn + u\n",
    "fpp = fp + v\n",
    "f11 = 2 * (p1 - fnn) / (2 * p1 - fnn + fpp)\n",
    "du = sp.diff(f11, u).simplify()\n",
    "duu = sp.diff(du, u).simplify()\n",
    "duv = sp.diff(du, v).simplify()\n",
    "\n",
    "dv = sp.diff(f11, v).simplify()\n",
    "dvu = sp.diff(dv, u).simplify()\n",
    "dvv = sp.diff(dv, v).simplify()"
   ]
  },
  {
   "cell_type": "code",
   "execution_count": null,
   "metadata": {},
   "outputs": [],
   "source": [
    "f11"
   ]
  },
  {
   "cell_type": "code",
   "execution_count": null,
   "metadata": {},
   "outputs": [],
   "source": [
    "du, dv"
   ]
  }
 ],
 "metadata": {
  "kernelspec": {
   "display_name": "Python 3",
   "language": "python",
   "name": "python3"
  },
  "language_info": {
   "codemirror_mode": {
    "name": "ipython",
    "version": 3
   },
   "file_extension": ".py",
   "mimetype": "text/x-python",
   "name": "python",
   "nbconvert_exporter": "python",
   "pygments_lexer": "ipython3",
   "version": "3.6.4"
  }
 },
 "nbformat": 4,
 "nbformat_minor": 2
}
